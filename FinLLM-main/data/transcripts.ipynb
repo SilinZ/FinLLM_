{
 "cells": [
  {
   "cell_type": "code",
   "execution_count": 1,
   "id": "initial_id",
   "metadata": {
    "ExecuteTime": {
     "end_time": "2024-11-16T20:26:53.806832Z",
     "start_time": "2024-11-16T20:26:53.772271Z"
    },
    "collapsed": true
   },
   "outputs": [],
   "source": [
    "import requests\n",
    "import json\n",
    "from datetime import datetime\n",
    "import time\n",
    "import re\n",
    "from bs4 import BeautifulSoup"
   ]
  },
  {
   "cell_type": "code",
   "execution_count": 7,
   "id": "bd098c4bc1eed7bb",
   "metadata": {
    "ExecuteTime": {
     "end_time": "2024-11-16T20:21:30.445275Z",
     "start_time": "2024-11-16T20:21:30.439791Z"
    }
   },
   "outputs": [],
   "source": [
    "symbol = 'goog'\n",
    "start_unix = 1415866606 # the unix format of start date time, i.e. Thu Nov 13 2014 08:16:46 GMT+0000\n",
    "today_unix = int(datetime.now().timestamp())\n",
    "size = 20 # number of item returned each time\n",
    "rapid_api_key = \"0bb1b966aemsh169f91a4d3a2f09p169928jsn263ac1b2f1b3\"\n",
    "list_url = \"https://seeking-alpha.p.rapidapi.com/transcripts/v2/list\"\n",
    "transcript_url = \"https://seeking-alpha.p.rapidapi.com/transcripts/v2/get-details\""
   ]
  },
  {
   "cell_type": "code",
   "execution_count": 8,
   "id": "2bc64c0d33f7e7a4",
   "metadata": {
    "ExecuteTime": {
     "end_time": "2024-11-16T20:21:30.718885Z",
     "start_time": "2024-11-16T20:21:30.715722Z"
    }
   },
   "outputs": [],
   "source": [
    "def request_transcript_list(symbol, size, end_unix=None):\n",
    "\tquerystring = {\"id\": symbol, \"until\": end_unix, \"size\": size, \"number\":\"1\"}\n",
    "\t\n",
    "\theaders = {\n",
    "\t\"x-rapidapi-key\": rapid_api_key,\n",
    "\t\"x-rapidapi-host\": \"seeking-alpha.p.rapidapi.com\"\n",
    "\t}\n",
    "\tresponse = requests.get(list_url, headers=headers, params=querystring)\n",
    "\tresponse = json.loads(response.text)\n",
    "\treturn response"
   ]
  },
  {
   "cell_type": "code",
   "execution_count": 9,
   "id": "34241ce193bb8d9",
   "metadata": {
    "ExecuteTime": {
     "end_time": "2024-11-16T20:21:31.067003Z",
     "start_time": "2024-11-16T20:21:31.053566Z"
    }
   },
   "outputs": [],
   "source": [
    "def get_time_id_title(response, start_unix=start_unix, type='transcript', transcripts = {}):\n",
    "\tres = response['data']\n",
    "\tfor i in res:\n",
    "\t\ttime = datetime.fromisoformat(i['attributes']['publishOn'])\n",
    "\t\ttime_unix = int(time.timestamp())\n",
    "\t\tif (i['type'] == type) and (time_unix >= start_unix):\n",
    "\t\t\ttranscripts[i['id']] = i['attributes']['title']\n",
    "\tend_string = res[-1]['attributes']['publishOn'] # publish date time\n",
    "\tend_object = datetime.fromisoformat(end_string)\n",
    "\tend_unix = int(end_object.timestamp())\n",
    "\treturn end_unix, transcripts"
   ]
  },
  {
   "cell_type": "code",
   "execution_count": 10,
   "id": "d50d51ebbc29e531",
   "metadata": {
    "ExecuteTime": {
     "end_time": "2024-11-16T20:21:31.468660Z",
     "start_time": "2024-11-16T20:21:31.451477Z"
    }
   },
   "outputs": [],
   "source": [
    "def get_past_10_year_transcripts_id(symbol, size, today_unix, start_unix=start_unix):\n",
    "\tend_unix = today_unix\n",
    "\ttranscripts = {}\n",
    "\twhile end_unix >= start_unix:\n",
    "\t\tresponse = request_transcript_list(symbol, size, end_unix=end_unix)\n",
    "\t\tlength = len(response['data'])\n",
    "\t\tend_unix, transcripts = get_time_id_title(response, type='transcript', transcripts=transcripts)\n",
    "\t\t\n",
    "\t\tif length < size: # all transcripts have been retrieved, i.e. the company went public after Nov 13 2014 \n",
    "\t\t\tbreak \n",
    "\treturn transcripts"
   ]
  },
  {
   "cell_type": "code",
   "execution_count": 11,
   "id": "ffad25d4215117c8",
   "metadata": {
    "ExecuteTime": {
     "end_time": "2024-11-16T20:21:40.826620Z",
     "start_time": "2024-11-16T20:21:32.321758Z"
    }
   },
   "outputs": [],
   "source": [
    "transcripts = get_past_10_year_transcripts_id(symbol, size, today_unix, start_unix=start_unix)"
   ]
  },
  {
   "cell_type": "code",
   "execution_count": 12,
   "id": "1fe4244d4beeb55e",
   "metadata": {
    "ExecuteTime": {
     "end_time": "2024-11-16T20:21:40.838918Z",
     "start_time": "2024-11-16T20:21:40.830487Z"
    }
   },
   "outputs": [
    {
     "data": {
      "text/plain": [
       "{'4730692': 'Alphabet Inc. (GOOG) Q3 2024 Earnings Call Transcript',\n",
       " '4720309': 'Alphabet Inc. (GOOG) Goldman Sachs 2024 Communacopia and Technology Conference (Transcript)',\n",
       " '4705978': 'Alphabet Inc. (GOOG) Q2 2024 Earnings Call Transcript',\n",
       " '4686483': 'Alphabet Inc. (GOOG) Q1 2024 Earnings Call Transcript',\n",
       " '4666190': 'Alphabet Inc. (GOOG) Q4 2023 Earnings Call Transcript',\n",
       " '4656174': 'Alphabet Inc (GOOG) Presents at Scotiabank Inaugural Global Technology Conference (Transcript)',\n",
       " '4643107': 'Alphabet Inc. (GOOG) Q3 2023 Earnings Call Transcript',\n",
       " '4633812': 'Alphabet Inc. (GOOG) Presents at Goldman Sachs Communacopia & Technology Conference (Transcript)',\n",
       " '4619735': 'Alphabet Inc. (GOOG) Q2 2023 Earnings Call Transcript',\n",
       " '4605811': \"Alphabet Inc. (GOOG) SVB MoffettNathanson's Inaugural Technology, Media, and Telecom Conference (Transcript)\",\n",
       " '4596558': 'Alphabet Inc. (GOOG) Q1 2023 Earnings Call Transcript',\n",
       " '4585742': 'Alphabet Inc. (GOOG) Morgan Stanley Technology, Media & Telecom Conference (Transcript)',\n",
       " '4574870': 'Alphabet Inc. (GOOG) Q4 2022 Earnings Call Transcript',\n",
       " '4549115': 'Alphabet Inc. (GOOG) Q3 2022 Earnings Call Transcript',\n",
       " '4526113': 'Alphabet Inc. (GOOG) CEO Sundar Pichai on Q2 2022 Results - Earnings Call Transcript',\n",
       " '4514514': \"Alphabet Inc.'s (GOOG) Management Presents at JPMorgan's 50th Annual Global Technology, Media and Communications Conference (Transcript)\",\n",
       " '4503851': \"Alphabet Inc.'s (GOOG) CEO Sundar Pichai on Q1 2022 Results - Earnings Call Transcript\",\n",
       " '4493856': 'Alphabet Inc. (GOOG) Management Presents at Morgan Stanley Technology, Media and Telecom Conference 2022 (Transcript)',\n",
       " '4485328': 'Mandiant, Inc. (MNDT) CEO Kevin Mandia on Q4 2021 Results - Earnings Call Transcript',\n",
       " '4483370': \"Alphabet Inc.'s (GOOG) CEO Sundar Pichai on Q4 2021 Results - Earnings Call Transcript\",\n",
       " '4465821': 'Mandiant, Inc. (MNDT) CEO Kevin Mandia on Q3 2021 Results - Earnings Call Transcript',\n",
       " '4462234': 'Alphabet Inc. (GOOG) Q3 CEO Sundar Pichai on 2021 Results - Earnings Call Transcript',\n",
       " '4458551': \"Mandiant, Inc.'s (MNDT) Virtual Product and Strategy Update for Financial Analysts and Investors Conference (Transcript)\",\n",
       " '4454379': 'FireEye, Inc. (FEYE) Management on Q3 2021 Results - Earnings Call Transcript',\n",
       " '4454345': \"Alphabet Inc.'s (GOOG) Management Presents at Deutsche Bank Technology Conference 2021 (Transcript)\",\n",
       " '4445764': \"FireEye, Inc.'s (FEYE) CEO Kevin Mandia on Q2 2021 Results - Earnings Call Transcript\",\n",
       " '4441896': \"Alphabet Inc.'s (GOOG) CEO Sundar Pichai on Q2 2021 Results - Earnings Call Transcript\",\n",
       " '4433924': 'FireEye, Inc. (FEYE) Presents at Baird 2021 Global Consumer, Technology and Services Conference (Transcript)',\n",
       " '4433781': 'FireEye, Inc. (FEYE) CEO Kevin Mandia Presents at BofA Securities 2021 Global Technology Conference (Transcript)',\n",
       " '4432477': 'FireEye, Inc (FEYE) CEO Kevin Mandia Presents at Cowen 49th Annual Technology, Media & Communications Conference (Transcript)',\n",
       " '4432460': 'Alphabet Inc. (GOOG) Presents at Deutsche Bank Global Financial Services Conference (Transcript)',\n",
       " '4431251': \"FireEye's (FEYE) CEO Kevin Mandia Presents at 49th Annual Technology, Media & Communications Conference Call (Transcript)\",\n",
       " '4421824': \"Alphabet Inc.'s (GOOG) CEO Sundar Pichai on Q1 2021 Results - Earnings Call Transcript\",\n",
       " '4421795': 'FireEye, Inc. (FEYE) CEO Kevin Mandia on Q1 2021 Results - Earnings Call Transcript',\n",
       " '4412938': 'FireEye, Inc. (FEYE) Presents at Truist Securities Technology Conference (Transcript)',\n",
       " '4410862': 'FireEye, Inc. (FEYE) CEO Kevin Mandia at Morgan Stanley Technology, Media and Telecom Conference (Transcript)',\n",
       " '4410494': 'FireEye, Inc. (FEYE) Management Presents at JMP Securities Technology Conference (Transcript)',\n",
       " '4402934': 'FireEye, Inc. (FEYE) CEO Kevin Mandia on Q4 2020 Results - Earnings Call Transcript',\n",
       " '4402905': 'Alphabet, Inc. (GOOG) CEO Sundar Pichai on Q4 2020 Results - Earnings Call Transcript',\n",
       " '4394147': 'FireEye, Inc. (FEYE) CEO Kevin Mandia Presents at Barclays Global Technology, Media and Telecommunications Conference (Transcript)',\n",
       " '4393921': 'Alphabet Inc. (GOOG) Presents at UBS Global TMT Virtual Conference (Transcript)',\n",
       " '4393853': 'FireEye, Inc. (FEYE) CEO Kevin Mandia Presents at UBS Global TMT Virtual Conference (Transcript)',\n",
       " '4382932': 'Alphabet Inc. (GOOG) CEO Sundar Pichai on Q3 2020 Results - Earnings Call Transcript',\n",
       " '4381950': \"FireEye, Inc.'s (FEYE) CEO Kevin Mandia on Q3 2020 Results - Earnings Call Transcript\",\n",
       " '4374517': 'FireEye, Inc. (FEYE) CEO Kevin Mandia Presents at Deutsche Bank 2020 Virtual Technology Conference (Transcript)',\n",
       " '4370983': \"FireEye, Inc.'s (FEYE) Management on 2020 BMO Virtual Technology Summit - (Transcript)\",\n",
       " '4362665': 'Alphabet, Inc. (GOOG) CEO Sundar Pichai on Q2 2020 Results - Earnings Call Transcript',\n",
       " '4361652': 'FireEye, Inc. (FEYE) CEO Kevin Mandia on Q2 2020 Results - Earnings Call Transcript',\n",
       " '4340803': 'Alphabet Inc. (GOOG) CEO Sundar Pichai on Q1 2020 Results - Earnings Call Transcript',\n",
       " '4340795': 'FireEye, Inc. (FEYE) CEO Kevin Mandia on Q1 2020 Results - Earnings Call Transcript',\n",
       " '4321797': \"FireEye's (FEYE) CEO Kevin Mandia on Q4 2019 Results - Earnings Call Transcript\",\n",
       " '4321094': 'Alphabet Inc. (GOOG) CEO Sundar Pichai on Q4 2019 Results - Earnings Call Transcript',\n",
       " '4300155': 'FireEye, Inc. (FEYE) CEO Kevin Mandia on Q3 2019 Results - Earnings Call Transcript',\n",
       " '4299748': 'Alphabet Inc. (GOOG) Q3 2019 Results - Earnings Call Transcript',\n",
       " '4279339': 'FireEye, Inc. (FEYE) CEO Kevin Mandia on Q2 2019 Results - Earnings Call Transcript',\n",
       " '4277828': 'Alphabet Inc. (GOOG) Q2 2019 Results - Earnings Call Transcript',\n",
       " '4258359': \"FireEye, Inc.'s (FEYE) CEO Kevin Mandia on Q1 2019 Results - Earnings Call Transcript\",\n",
       " '4257884': \"Alphabet Inc.'s (GOOG) CEO Sundar Pichai on Q1 2019 Results - Earnings Call Transcript\",\n",
       " '4238808': 'FireEye, Inc. (FEYE) CEO Kevin Mandia on Q4 2018 Results - Earnings Call Transcript',\n",
       " '4238032': 'Alphabet, Inc. Cl C (GOOG) CEO Sundar Pichai On Q4 2018 Results - Earnings Call Transcript',\n",
       " '4226885': 'FireEye, Inc. (FEYE) CEO Kevin Mandia Presents at Barclays Global Technology, Media and Telecommunications Conference (Transcript)',\n",
       " '4221980': 'FireEye, Inc. (FEYE) Presents at UBS Global Technology Broker Conference Call (Transcript)',\n",
       " '4216255': 'FireEye (FEYE) Q3 2018 Results - Earnings Call Transcript',\n",
       " '4214694': 'Alphabet (GOOG) Q3 2018 Results - Earnings Call Transcript',\n",
       " '4205901': 'FireEye Inc. (FEYE) Management on Deutsche Bank 2018 Technology Conference (Transcript)',\n",
       " '4205101': 'FireEye, Inc. (FEYE) Presents at 2018 Citi Global Technology Conference (Transcript)',\n",
       " '4193442': 'FireEye (FEYE) Q2 2018 Results - Earnings Call Transcript',\n",
       " '4189317': 'Alphabet Inc. (GOOG) CEO Sundar Pichai on Q2 2018 Results - Earnings Call Transcript',\n",
       " '4168898': 'FireEye (FEYE) Q1 2018 Results - Earnings Call Transcript',\n",
       " '4165019': \"Alphabet's (GOOG) CEO Sundar Pichai on Q1 2018 Results - Earnings Call Transcript\",\n",
       " '4144917': \"FireEye's (FEYE) CEO Kevin Mandia on Q4 2017 Results - Earnings Call Transcript\",\n",
       " '4142459': \"Alphabet's (GOOG) CEO Sundar Pichai on Q4 2017 Results - Earnings Call Transcript\",\n",
       " '4128234': \"Alphabet's (GOOG) Management Presents at 21st Annual Credit Suisse Technology, Media & Telecom Conference (Transcript)\",\n",
       " '4119404': \"FireEye's (FEYE) CEO Kevin Mandia on Q3 2017 Results - Earnings Call Transcript\",\n",
       " '4117116': 'Alphabet (GOOG) Q3 2017 Results - Earnings Call Transcript',\n",
       " '4105071': 'Alphabet Presents at Citi 2017 Global Technology Conference (Transcript)',\n",
       " '4093487': 'FireEye (FEYE) Q2 2017 Results - Earnings Call Transcript',\n",
       " '4090041': \"Alphabet's (GOOG) CEO Sundar Pichai On Q2 2017 Results - Earnings Call Transcript\",\n",
       " '4079762': \"Alphabet's (GOOG) Management Hosts 2017 Annual Meeting of Shareholders (Transcript)\",\n",
       " '4068241': 'FireEye (FEYE) Q1 2017 Results - Earnings Call Transcript',\n",
       " '4066436': 'Alphabet (GOOG) Q1 2017 Results - Earnings Call Transcript',\n",
       " '4042332': 'FireEye (FEYE) Q4 2016 Results - Earnings Call Transcript',\n",
       " '4040406': 'Alphabet (GOOG) Q4 2016 Results - Earnings Call Transcript',\n",
       " '4027135': \"Alphabet's (GOOG) Management presents at Credit Suisse Technology, Media and Telecom Conference (Transcript)\",\n",
       " '4019374': 'FireEye (FEYE) Q3 2016 Results - Earnings Call Transcript',\n",
       " '4016077': 'Alphabet (GOOG) Q3 2016 Results - Earnings Call Transcript',\n",
       " '3996196': 'FireEye (FEYE) Kevin R. Mandia on Q2 2016 Results - Earnings Call Transcript',\n",
       " '3992960': 'Alphabet (GOOG) Q2 2016 Results - Earnings Call Transcript',\n",
       " '3980865': \"Alphabet's (GOOG) Management Hosts 2016 Annual Meeting of Shareholders (Transcript)\",\n",
       " '3972140': 'FireEye (FEYE) Q1 2016 Results - Earnings Call Transcript',\n",
       " '3967198': 'Alphabet (GOOG) Q1 2016 Results - Earnings Call Transcript',\n",
       " '3890806': \"FireEye's (FEYE) CEO David DeWalt on Q4 2015 Results - Earnings Call Transcript\",\n",
       " '3854286': 'Alphabet (GOOG) Q4 2015 Results - Earnings Call Transcript',\n",
       " '3648316': 'FireEye (FEYE) David DeWalt on Q3 2015 Results - Earnings Call Transcript',\n",
       " '3596706': 'Alphabet (GOOG) Q3 2015 Results - Earnings Call Transcript',\n",
       " '3380475': \"FireEye's (FEYE) CEO Dave DeWalt on Q2 2015 Results - Earnings Call Transcript\",\n",
       " '3332585': \"Google's (GOOG) Management Discusses on Q2 2015 Results - Earnings Call Transcript\",\n",
       " '3234376': \"Google's (GOOG) CEO Larry Page Hosts 2015 Annual Meeting of Stockholders (Transcript)\",\n",
       " '3126516': \"FireEye's (FEYE) CEO Dave DeWalt on Q1 2015 Results - Earnings Call Transcript\",\n",
       " '3098106': \"Google's (GOOG) Management on Q1 2015 Results - Earnings Call Transcript\",\n",
       " '2970736': \"Google's (GOOG) Management presents at Morgan Stanley Technology, Media, and Telecom Conference (Transcript)\",\n",
       " '2909376': \"FireEye's (FEYE) CEO Dave DeWalt on Q4 2014 Results - Earnings Call Transcript\",\n",
       " '2867096': 'Google (GOOG) Q4 2014 Results - Earnings Call Transcript',\n",
       " '2725055': \"Google's (GOOG) Management Presents At Credit Suisse Technology Conference (Transcript)\"}"
      ]
     },
     "execution_count": 12,
     "metadata": {},
     "output_type": "execute_result"
    }
   ],
   "source": [
    "transcripts"
   ]
  },
  {
   "cell_type": "code",
   "execution_count": 13,
   "id": "4b3358cb4f6fe3",
   "metadata": {
    "ExecuteTime": {
     "end_time": "2024-11-16T20:21:40.851106Z",
     "start_time": "2024-11-16T20:21:40.842909Z"
    }
   },
   "outputs": [],
   "source": [
    "def screen(transcripts, symbol):\n",
    "\tearning_calls = {}\n",
    "\tfor id, title in transcripts.items():\n",
    "\t\tlow_tit = title.lower()\n",
    "\t\tpattern = r\"q[1-4] 20\\d{2}\"\n",
    "\t\tmatch = bool(re.search(pattern, low_tit))\n",
    "\t\tif (symbol.lower() in low_tit) and ('transcript' in low_tit) and match:\n",
    "\t\t\tearning_calls[id] = title\n",
    "\treturn earning_calls"
   ]
  },
  {
   "cell_type": "code",
   "execution_count": 14,
   "id": "c28b891551225b9a",
   "metadata": {
    "ExecuteTime": {
     "end_time": "2024-11-16T20:21:40.856642Z",
     "start_time": "2024-11-16T20:21:40.852997Z"
    }
   },
   "outputs": [
    {
     "data": {
      "text/plain": [
       "{'4730692': 'Alphabet Inc. (GOOG) Q3 2024 Earnings Call Transcript',\n",
       " '4705978': 'Alphabet Inc. (GOOG) Q2 2024 Earnings Call Transcript',\n",
       " '4686483': 'Alphabet Inc. (GOOG) Q1 2024 Earnings Call Transcript',\n",
       " '4666190': 'Alphabet Inc. (GOOG) Q4 2023 Earnings Call Transcript',\n",
       " '4643107': 'Alphabet Inc. (GOOG) Q3 2023 Earnings Call Transcript',\n",
       " '4619735': 'Alphabet Inc. (GOOG) Q2 2023 Earnings Call Transcript',\n",
       " '4596558': 'Alphabet Inc. (GOOG) Q1 2023 Earnings Call Transcript',\n",
       " '4574870': 'Alphabet Inc. (GOOG) Q4 2022 Earnings Call Transcript',\n",
       " '4549115': 'Alphabet Inc. (GOOG) Q3 2022 Earnings Call Transcript',\n",
       " '4526113': 'Alphabet Inc. (GOOG) CEO Sundar Pichai on Q2 2022 Results - Earnings Call Transcript',\n",
       " '4503851': \"Alphabet Inc.'s (GOOG) CEO Sundar Pichai on Q1 2022 Results - Earnings Call Transcript\",\n",
       " '4483370': \"Alphabet Inc.'s (GOOG) CEO Sundar Pichai on Q4 2021 Results - Earnings Call Transcript\",\n",
       " '4441896': \"Alphabet Inc.'s (GOOG) CEO Sundar Pichai on Q2 2021 Results - Earnings Call Transcript\",\n",
       " '4421824': \"Alphabet Inc.'s (GOOG) CEO Sundar Pichai on Q1 2021 Results - Earnings Call Transcript\",\n",
       " '4402905': 'Alphabet, Inc. (GOOG) CEO Sundar Pichai on Q4 2020 Results - Earnings Call Transcript',\n",
       " '4382932': 'Alphabet Inc. (GOOG) CEO Sundar Pichai on Q3 2020 Results - Earnings Call Transcript',\n",
       " '4362665': 'Alphabet, Inc. (GOOG) CEO Sundar Pichai on Q2 2020 Results - Earnings Call Transcript',\n",
       " '4340803': 'Alphabet Inc. (GOOG) CEO Sundar Pichai on Q1 2020 Results - Earnings Call Transcript',\n",
       " '4321094': 'Alphabet Inc. (GOOG) CEO Sundar Pichai on Q4 2019 Results - Earnings Call Transcript',\n",
       " '4299748': 'Alphabet Inc. (GOOG) Q3 2019 Results - Earnings Call Transcript',\n",
       " '4277828': 'Alphabet Inc. (GOOG) Q2 2019 Results - Earnings Call Transcript',\n",
       " '4257884': \"Alphabet Inc.'s (GOOG) CEO Sundar Pichai on Q1 2019 Results - Earnings Call Transcript\",\n",
       " '4238032': 'Alphabet, Inc. Cl C (GOOG) CEO Sundar Pichai On Q4 2018 Results - Earnings Call Transcript',\n",
       " '4214694': 'Alphabet (GOOG) Q3 2018 Results - Earnings Call Transcript',\n",
       " '4189317': 'Alphabet Inc. (GOOG) CEO Sundar Pichai on Q2 2018 Results - Earnings Call Transcript',\n",
       " '4165019': \"Alphabet's (GOOG) CEO Sundar Pichai on Q1 2018 Results - Earnings Call Transcript\",\n",
       " '4142459': \"Alphabet's (GOOG) CEO Sundar Pichai on Q4 2017 Results - Earnings Call Transcript\",\n",
       " '4117116': 'Alphabet (GOOG) Q3 2017 Results - Earnings Call Transcript',\n",
       " '4090041': \"Alphabet's (GOOG) CEO Sundar Pichai On Q2 2017 Results - Earnings Call Transcript\",\n",
       " '4066436': 'Alphabet (GOOG) Q1 2017 Results - Earnings Call Transcript',\n",
       " '4040406': 'Alphabet (GOOG) Q4 2016 Results - Earnings Call Transcript',\n",
       " '4016077': 'Alphabet (GOOG) Q3 2016 Results - Earnings Call Transcript',\n",
       " '3992960': 'Alphabet (GOOG) Q2 2016 Results - Earnings Call Transcript',\n",
       " '3967198': 'Alphabet (GOOG) Q1 2016 Results - Earnings Call Transcript',\n",
       " '3854286': 'Alphabet (GOOG) Q4 2015 Results - Earnings Call Transcript',\n",
       " '3596706': 'Alphabet (GOOG) Q3 2015 Results - Earnings Call Transcript',\n",
       " '3332585': \"Google's (GOOG) Management Discusses on Q2 2015 Results - Earnings Call Transcript\",\n",
       " '3098106': \"Google's (GOOG) Management on Q1 2015 Results - Earnings Call Transcript\",\n",
       " '2867096': 'Google (GOOG) Q4 2014 Results - Earnings Call Transcript'}"
      ]
     },
     "execution_count": 14,
     "metadata": {},
     "output_type": "execute_result"
    }
   ],
   "source": [
    "earning_calls = screen(transcripts, 'goog')\n",
    "earning_calls"
   ]
  },
  {
   "cell_type": "code",
   "execution_count": 15,
   "id": "bde382cffc37701a",
   "metadata": {
    "ExecuteTime": {
     "end_time": "2024-11-16T20:21:40.859300Z",
     "start_time": "2024-11-16T20:21:40.857549Z"
    }
   },
   "outputs": [],
   "source": [
    "transcript_ids = [idx for idx in earning_calls.keys()]"
   ]
  },
  {
   "cell_type": "code",
   "execution_count": 16,
   "id": "6f2ac37ce6279ccf",
   "metadata": {
    "ExecuteTime": {
     "end_time": "2024-11-16T20:27:08.483193Z",
     "start_time": "2024-11-16T20:27:08.474215Z"
    }
   },
   "outputs": [],
   "source": [
    "def request_transcript_details(id):\n",
    "\tquerystring = {\"id\":id}\n",
    "\theaders = {\n",
    "\t\t\"x-rapidapi-key\": rapid_api_key,\n",
    "\t\t\"x-rapidapi-host\": \"seeking-alpha.p.rapidapi.com\"\n",
    "\t}\n",
    "\tresponse = requests.get(transcript_url, headers=headers, params=querystring)\n",
    "\tresponse = json.loads(response.text)\n",
    "\ttime.sleep(1)\n",
    "\treturn response"
   ]
  },
  {
   "cell_type": "code",
   "execution_count": 17,
   "id": "96318bf38a2163d3",
   "metadata": {
    "ExecuteTime": {
     "end_time": "2024-11-16T20:27:09.193695Z",
     "start_time": "2024-11-16T20:27:09.185635Z"
    }
   },
   "outputs": [],
   "source": [
    "def clean_content(content):\n",
    "\tsoup = BeautifulSoup(content, \"lxml\")\n",
    "\t# Replace <br> tags with newline characters\n",
    "\tfor br in soup.find_all(\"br\"):\n",
    "\t\tbr.replace_with(\"\\n\")\n",
    "\tplain_text = \"\\n\\n\".join([p.get_text() for p in soup.find_all(\"p\")])\n",
    "\treturn plain_text"
   ]
  },
  {
   "cell_type": "code",
   "execution_count": 18,
   "id": "f5da898c595e8d1d",
   "metadata": {
    "ExecuteTime": {
     "end_time": "2024-11-16T20:27:09.766221Z",
     "start_time": "2024-11-16T20:27:09.756249Z"
    }
   },
   "outputs": [],
   "source": [
    "def get_transcript(ids, symbol):\n",
    "    dataset = []\n",
    "    with open(symbol + '_calls.jsonl', 'w') as f: \n",
    "        for id in ids:\n",
    "            response = request_transcript_details(id)\n",
    "            content = response['data']['attributes']['content']\n",
    "            content = clean_content(content)  \n",
    "            title = response['data']['attributes']['title']\n",
    "            time = datetime.fromisoformat(response['data']['attributes']['publishOn']).strftime(\"%Y-%m-%d\")\n",
    "            transcript = {\"time\": time, \"title\": title, \"content\": content}\n",
    "            \n",
    "            dataset.append(transcript)\n",
    "            json_line = json.dumps(transcript) \n",
    "            f.write(json_line + \"\\n\")\n",
    "    return dataset"
   ]
  },
  {
   "cell_type": "code",
   "execution_count": 19,
   "id": "3861a1b339dbd7fe",
   "metadata": {
    "ExecuteTime": {
     "end_time": "2024-11-16T20:27:58.487159Z",
     "start_time": "2024-11-16T20:27:10.732076Z"
    }
   },
   "outputs": [],
   "source": [
    "dataset = get_transcript(transcript_ids, symbol)"
   ]
  },
  {
   "cell_type": "code",
   "execution_count": null,
   "id": "462891227eb0d756",
   "metadata": {},
   "outputs": [],
   "source": [
    "dataset"
   ]
  }
 ],
 "metadata": {
  "kernelspec": {
   "display_name": "pytorch",
   "language": "python",
   "name": "python3"
  },
  "language_info": {
   "codemirror_mode": {
    "name": "ipython",
    "version": 3
   },
   "file_extension": ".py",
   "mimetype": "text/x-python",
   "name": "python",
   "nbconvert_exporter": "python",
   "pygments_lexer": "ipython3",
   "version": "3.12.4"
  }
 },
 "nbformat": 4,
 "nbformat_minor": 5
}
